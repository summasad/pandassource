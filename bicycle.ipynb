{
 "cells": [
  {
   "cell_type": "markdown",
   "metadata": {},
   "source": [
    "#### 공공자전거\n",
    "- 서울시 공공자전거 이용정보(시간대별)\n",
    "- 서울시 공공자전거 대여소 정보\n",
    "- 서울시 공공자전거 대여소별 이용정보"
   ]
  },
  {
   "cell_type": "code",
   "execution_count": 1,
   "metadata": {},
   "outputs": [],
   "source": [
    "import pandas as pd\n",
    "import matplotlib.pyplot as plt\n",
    "import numpy as np\n",
    "import seaborn as sns\n",
    "\n",
    "# 한글설정\n",
    "# plt.rcParams[\"font.family\"] = \"Malgun Gothic\"\n",
    "# - 설정\n",
    "# plt.rcParams[\"axes.unicode_minus\"] = False\n",
    "import koreanize_matplotlib\n",
    "\n",
    "import warnings\n",
    "warnings.simplefilter(action=\"ignore\")"
   ]
  },
  {
   "cell_type": "code",
   "execution_count": 2,
   "metadata": {},
   "outputs": [
    {
     "data": {
      "text/html": [
       "<div>\n",
       "<style scoped>\n",
       "    .dataframe tbody tr th:only-of-type {\n",
       "        vertical-align: middle;\n",
       "    }\n",
       "\n",
       "    .dataframe tbody tr th {\n",
       "        vertical-align: top;\n",
       "    }\n",
       "\n",
       "    .dataframe thead th {\n",
       "        text-align: right;\n",
       "    }\n",
       "</style>\n",
       "<table border=\"1\" class=\"dataframe\">\n",
       "  <thead>\n",
       "    <tr style=\"text-align: right;\">\n",
       "      <th></th>\n",
       "      <th>Unnamed: 0</th>\n",
       "      <th>Unnamed: 1</th>\n",
       "      <th>Unnamed: 2</th>\n",
       "      <th>Unnamed: 3</th>\n",
       "      <th>Unnamed: 4</th>\n",
       "      <th>Unnamed: 5</th>\n",
       "      <th>Unnamed: 6</th>\n",
       "      <th>Unnamed: 7</th>\n",
       "      <th>Unnamed: 8</th>\n",
       "      <th>Unnamed: 9</th>\n",
       "    </tr>\n",
       "  </thead>\n",
       "  <tbody>\n",
       "    <tr>\n",
       "      <th>0</th>\n",
       "      <td>301</td>\n",
       "      <td>경복궁역 7번출구 앞</td>\n",
       "      <td>종로구</td>\n",
       "      <td>서울특별시 종로구 사직로 지하130 경복궁역 7번출구 앞</td>\n",
       "      <td>37.575794</td>\n",
       "      <td>126.971451</td>\n",
       "      <td>2015-10-07 12:03:46</td>\n",
       "      <td>20.0</td>\n",
       "      <td>20.0</td>\n",
       "      <td>QR</td>\n",
       "    </tr>\n",
       "    <tr>\n",
       "      <th>1</th>\n",
       "      <td>302</td>\n",
       "      <td>경복궁역 4번출구 뒤</td>\n",
       "      <td>종로구</td>\n",
       "      <td>서울특별시 종로구 사직로 지하130 경복궁역 4번출구 뒤</td>\n",
       "      <td>37.575947</td>\n",
       "      <td>126.974060</td>\n",
       "      <td>2015-10-07 12:04:22</td>\n",
       "      <td>12.0</td>\n",
       "      <td>12.0</td>\n",
       "      <td>QR</td>\n",
       "    </tr>\n",
       "    <tr>\n",
       "      <th>2</th>\n",
       "      <td>303</td>\n",
       "      <td>광화문역 1번출구 앞</td>\n",
       "      <td>종로구</td>\n",
       "      <td>서울특별시 종로구 세종대로 지하189 세종로공원</td>\n",
       "      <td>37.571770</td>\n",
       "      <td>126.974663</td>\n",
       "      <td>2015-10-07 00:00:00</td>\n",
       "      <td>8.0</td>\n",
       "      <td>8.0</td>\n",
       "      <td>QR</td>\n",
       "    </tr>\n",
       "    <tr>\n",
       "      <th>3</th>\n",
       "      <td>305</td>\n",
       "      <td>종로구청 옆</td>\n",
       "      <td>종로구</td>\n",
       "      <td>서울특별시 종로구 세종로 84-1</td>\n",
       "      <td>37.572559</td>\n",
       "      <td>126.978333</td>\n",
       "      <td>2015-01-07 00:00:00</td>\n",
       "      <td>16.0</td>\n",
       "      <td>16.0</td>\n",
       "      <td>QR</td>\n",
       "    </tr>\n",
       "    <tr>\n",
       "      <th>4</th>\n",
       "      <td>307</td>\n",
       "      <td>서울역사박물관 앞</td>\n",
       "      <td>종로구</td>\n",
       "      <td>서울특별시 종로구 새문안로 55 서울역사박물관 앞</td>\n",
       "      <td>37.570000</td>\n",
       "      <td>126.971100</td>\n",
       "      <td>2015-10-07 12:09:09</td>\n",
       "      <td>11.0</td>\n",
       "      <td>11.0</td>\n",
       "      <td>QR</td>\n",
       "    </tr>\n",
       "  </tbody>\n",
       "</table>\n",
       "</div>"
      ],
      "text/plain": [
       "   Unnamed: 0    Unnamed: 1 Unnamed: 2                       Unnamed: 3  \\\n",
       "0         301   경복궁역 7번출구 앞        종로구  서울특별시 종로구 사직로 지하130 경복궁역 7번출구 앞   \n",
       "1         302   경복궁역 4번출구 뒤        종로구  서울특별시 종로구 사직로 지하130 경복궁역 4번출구 뒤   \n",
       "2         303   광화문역 1번출구 앞        종로구       서울특별시 종로구 세종대로 지하189 세종로공원   \n",
       "3         305        종로구청 옆        종로구               서울특별시 종로구 세종로 84-1   \n",
       "4         307     서울역사박물관 앞        종로구      서울특별시 종로구 새문안로 55 서울역사박물관 앞   \n",
       "\n",
       "   Unnamed: 4  Unnamed: 5          Unnamed: 6  Unnamed: 7  Unnamed: 8  \\\n",
       "0   37.575794  126.971451 2015-10-07 12:03:46        20.0        20.0   \n",
       "1   37.575947  126.974060 2015-10-07 12:04:22        12.0        12.0   \n",
       "2   37.571770  126.974663 2015-10-07 00:00:00         8.0         8.0   \n",
       "3   37.572559  126.978333 2015-01-07 00:00:00        16.0        16.0   \n",
       "4   37.570000  126.971100 2015-10-07 12:09:09        11.0        11.0   \n",
       "\n",
       "  Unnamed: 9  \n",
       "0         QR  \n",
       "1         QR  \n",
       "2         QR  \n",
       "3         QR  \n",
       "4         QR  "
      ]
     },
     "execution_count": 2,
     "metadata": {},
     "output_type": "execute_result"
    }
   ],
   "source": [
    "# 대여소 정보.xlsx\n",
    "bike_df1 = pd.read_excel(\"./resources/대여소 정보.xlsx\", skiprows=4, sheet_name=\"대여소현황\")\n",
    "bike_df1.head()"
   ]
  },
  {
   "cell_type": "code",
   "execution_count": 9,
   "metadata": {},
   "outputs": [
    {
     "data": {
      "text/html": [
       "<div>\n",
       "<style scoped>\n",
       "    .dataframe tbody tr th:only-of-type {\n",
       "        vertical-align: middle;\n",
       "    }\n",
       "\n",
       "    .dataframe tbody tr th {\n",
       "        vertical-align: top;\n",
       "    }\n",
       "\n",
       "    .dataframe thead th {\n",
       "        text-align: right;\n",
       "    }\n",
       "</style>\n",
       "<table border=\"1\" class=\"dataframe\">\n",
       "  <thead>\n",
       "    <tr style=\"text-align: right;\">\n",
       "      <th></th>\n",
       "      <th>대여일자</th>\n",
       "      <th>대여시간</th>\n",
       "      <th>대여소번호</th>\n",
       "      <th>대여소명</th>\n",
       "      <th>대여구분코드</th>\n",
       "      <th>성별</th>\n",
       "      <th>연령대코드</th>\n",
       "      <th>이용건수</th>\n",
       "      <th>운동량</th>\n",
       "      <th>탄소량</th>\n",
       "      <th>이동거리(M)</th>\n",
       "      <th>이용시간(분)</th>\n",
       "    </tr>\n",
       "  </thead>\n",
       "  <tbody>\n",
       "    <tr>\n",
       "      <th>0</th>\n",
       "      <td>2024-12-01</td>\n",
       "      <td>0</td>\n",
       "      <td>1442</td>\n",
       "      <td>1442. 중랑구청 중화동 별관 앞</td>\n",
       "      <td>정기권</td>\n",
       "      <td>NaN</td>\n",
       "      <td>~10대</td>\n",
       "      <td>1</td>\n",
       "      <td>105.32</td>\n",
       "      <td>0.66</td>\n",
       "      <td>2829.30</td>\n",
       "      <td>18</td>\n",
       "    </tr>\n",
       "    <tr>\n",
       "      <th>1</th>\n",
       "      <td>2024-12-01</td>\n",
       "      <td>0</td>\n",
       "      <td>2728</td>\n",
       "      <td>2728.마곡나루역 3번 출구</td>\n",
       "      <td>정기권</td>\n",
       "      <td>NaN</td>\n",
       "      <td>~10대</td>\n",
       "      <td>1</td>\n",
       "      <td>22.45</td>\n",
       "      <td>0.25</td>\n",
       "      <td>1090.00</td>\n",
       "      <td>7</td>\n",
       "    </tr>\n",
       "    <tr>\n",
       "      <th>2</th>\n",
       "      <td>2024-12-01</td>\n",
       "      <td>0</td>\n",
       "      <td>1023</td>\n",
       "      <td>1023. 한국종합기술사옥 앞</td>\n",
       "      <td>정기권</td>\n",
       "      <td>NaN</td>\n",
       "      <td>20대</td>\n",
       "      <td>1</td>\n",
       "      <td>148.31</td>\n",
       "      <td>0.87</td>\n",
       "      <td>3745.23</td>\n",
       "      <td>21</td>\n",
       "    </tr>\n",
       "    <tr>\n",
       "      <th>3</th>\n",
       "      <td>2024-12-01</td>\n",
       "      <td>0</td>\n",
       "      <td>1150</td>\n",
       "      <td>1150. 송정역 1번출구</td>\n",
       "      <td>정기권</td>\n",
       "      <td>NaN</td>\n",
       "      <td>20대</td>\n",
       "      <td>1</td>\n",
       "      <td>24.01</td>\n",
       "      <td>0.19</td>\n",
       "      <td>808.44</td>\n",
       "      <td>6</td>\n",
       "    </tr>\n",
       "    <tr>\n",
       "      <th>4</th>\n",
       "      <td>2024-12-01</td>\n",
       "      <td>0</td>\n",
       "      <td>1260</td>\n",
       "      <td>1260. 방이동 한양3차아파트 옆</td>\n",
       "      <td>정기권</td>\n",
       "      <td>NaN</td>\n",
       "      <td>20대</td>\n",
       "      <td>1</td>\n",
       "      <td>92.85</td>\n",
       "      <td>0.94</td>\n",
       "      <td>4042.55</td>\n",
       "      <td>35</td>\n",
       "    </tr>\n",
       "  </tbody>\n",
       "</table>\n",
       "</div>"
      ],
      "text/plain": [
       "         대여일자  대여시간  대여소번호                 대여소명 대여구분코드   성별 연령대코드  이용건수  \\\n",
       "0  2024-12-01     0   1442  1442. 중랑구청 중화동 별관 앞    정기권  NaN  ~10대     1   \n",
       "1  2024-12-01     0   2728     2728.마곡나루역 3번 출구    정기권  NaN  ~10대     1   \n",
       "2  2024-12-01     0   1023     1023. 한국종합기술사옥 앞    정기권  NaN   20대     1   \n",
       "3  2024-12-01     0   1150       1150. 송정역 1번출구    정기권  NaN   20대     1   \n",
       "4  2024-12-01     0   1260  1260. 방이동 한양3차아파트 옆    정기권  NaN   20대     1   \n",
       "\n",
       "      운동량   탄소량  이동거리(M)  이용시간(분)  \n",
       "0  105.32  0.66  2829.30       18  \n",
       "1   22.45  0.25  1090.00        7  \n",
       "2  148.31  0.87  3745.23       21  \n",
       "3   24.01  0.19   808.44        6  \n",
       "4   92.85  0.94  4042.55       35  "
      ]
     },
     "execution_count": 9,
     "metadata": {},
     "output_type": "execute_result"
    }
   ],
   "source": [
    "# 시간대별 이용정보.csv\n",
    "bike_df2 = pd.read_csv(\"./resources/시간대별 이용정보.csv\", encoding=\"cp949\")\n",
    "bike_df2.head()"
   ]
  },
  {
   "cell_type": "code",
   "execution_count": 10,
   "metadata": {},
   "outputs": [
    {
     "data": {
      "text/html": [
       "<div>\n",
       "<style scoped>\n",
       "    .dataframe tbody tr th:only-of-type {\n",
       "        vertical-align: middle;\n",
       "    }\n",
       "\n",
       "    .dataframe tbody tr th {\n",
       "        vertical-align: top;\n",
       "    }\n",
       "\n",
       "    .dataframe thead th {\n",
       "        text-align: right;\n",
       "    }\n",
       "</style>\n",
       "<table border=\"1\" class=\"dataframe\">\n",
       "  <thead>\n",
       "    <tr style=\"text-align: right;\">\n",
       "      <th></th>\n",
       "      <th>자치구</th>\n",
       "      <th>대여소명</th>\n",
       "      <th>기준년월</th>\n",
       "      <th>대여건수</th>\n",
       "      <th>반납건수</th>\n",
       "    </tr>\n",
       "  </thead>\n",
       "  <tbody>\n",
       "    <tr>\n",
       "      <th>0</th>\n",
       "      <td>마포구</td>\n",
       "      <td>108. 서교동 사거리</td>\n",
       "      <td>202407</td>\n",
       "      <td>1597</td>\n",
       "      <td>1609</td>\n",
       "    </tr>\n",
       "    <tr>\n",
       "      <th>1</th>\n",
       "      <td>양천구</td>\n",
       "      <td>729. 서부식자재마트 건너편</td>\n",
       "      <td>202407</td>\n",
       "      <td>1932</td>\n",
       "      <td>2113</td>\n",
       "    </tr>\n",
       "    <tr>\n",
       "      <th>2</th>\n",
       "      <td>양천구</td>\n",
       "      <td>731. 서울시 도로환경관리센터</td>\n",
       "      <td>202407</td>\n",
       "      <td>3580</td>\n",
       "      <td>3698</td>\n",
       "    </tr>\n",
       "    <tr>\n",
       "      <th>3</th>\n",
       "      <td>양천구</td>\n",
       "      <td>732. 신월중학교</td>\n",
       "      <td>202407</td>\n",
       "      <td>865</td>\n",
       "      <td>865</td>\n",
       "    </tr>\n",
       "    <tr>\n",
       "      <th>4</th>\n",
       "      <td>양천구</td>\n",
       "      <td>733. 신정이펜하우스314동</td>\n",
       "      <td>202407</td>\n",
       "      <td>587</td>\n",
       "      <td>401</td>\n",
       "    </tr>\n",
       "  </tbody>\n",
       "</table>\n",
       "</div>"
      ],
      "text/plain": [
       "   자치구               대여소명    기준년월  대여건수  반납건수\n",
       "0  마포구       108. 서교동 사거리  202407  1597  1609\n",
       "1  양천구   729. 서부식자재마트 건너편  202407  1932  2113\n",
       "2  양천구  731. 서울시 도로환경관리센터  202407  3580  3698\n",
       "3  양천구         732. 신월중학교  202407   865   865\n",
       "4  양천구   733. 신정이펜하우스314동  202407   587   401"
      ]
     },
     "execution_count": 10,
     "metadata": {},
     "output_type": "execute_result"
    }
   ],
   "source": [
    "# 대여소별 이용정보.csv\n",
    "bike_df3 = pd.read_csv(\"./resources/대여소별 이용정보.csv\", encoding=\"cp949\")\n",
    "bike_df3.head()"
   ]
  },
  {
   "cell_type": "code",
   "execution_count": 21,
   "metadata": {},
   "outputs": [],
   "source": [
    "#bike_df1 columns\n",
    "bike_df1.columns = [\"대여소번호\",\"대여소명\",\"자치구\",\"상세주소\",\"위도\",\"경도\",\"설치시기\",\"거치대수lcd\",\"거치대수qr\",\"운영방식\"]"
   ]
  },
  {
   "cell_type": "code",
   "execution_count": 22,
   "metadata": {},
   "outputs": [
    {
     "data": {
      "text/html": [
       "<div>\n",
       "<style scoped>\n",
       "    .dataframe tbody tr th:only-of-type {\n",
       "        vertical-align: middle;\n",
       "    }\n",
       "\n",
       "    .dataframe tbody tr th {\n",
       "        vertical-align: top;\n",
       "    }\n",
       "\n",
       "    .dataframe thead th {\n",
       "        text-align: right;\n",
       "    }\n",
       "</style>\n",
       "<table border=\"1\" class=\"dataframe\">\n",
       "  <thead>\n",
       "    <tr style=\"text-align: right;\">\n",
       "      <th></th>\n",
       "      <th>대여소번호</th>\n",
       "      <th>대여소명</th>\n",
       "      <th>자치구</th>\n",
       "      <th>상세주소</th>\n",
       "      <th>위도</th>\n",
       "      <th>경도</th>\n",
       "      <th>설치시기</th>\n",
       "      <th>거치대수lcd</th>\n",
       "      <th>거치대수qr</th>\n",
       "      <th>운영방식</th>\n",
       "    </tr>\n",
       "  </thead>\n",
       "  <tbody>\n",
       "    <tr>\n",
       "      <th>0</th>\n",
       "      <td>301</td>\n",
       "      <td>경복궁역 7번출구 앞</td>\n",
       "      <td>종로구</td>\n",
       "      <td>서울특별시 종로구 사직로 지하130 경복궁역 7번출구 앞</td>\n",
       "      <td>37.575794</td>\n",
       "      <td>126.971451</td>\n",
       "      <td>2015-10-07 12:03:46</td>\n",
       "      <td>20.0</td>\n",
       "      <td>20.0</td>\n",
       "      <td>QR</td>\n",
       "    </tr>\n",
       "    <tr>\n",
       "      <th>1</th>\n",
       "      <td>302</td>\n",
       "      <td>경복궁역 4번출구 뒤</td>\n",
       "      <td>종로구</td>\n",
       "      <td>서울특별시 종로구 사직로 지하130 경복궁역 4번출구 뒤</td>\n",
       "      <td>37.575947</td>\n",
       "      <td>126.974060</td>\n",
       "      <td>2015-10-07 12:04:22</td>\n",
       "      <td>12.0</td>\n",
       "      <td>12.0</td>\n",
       "      <td>QR</td>\n",
       "    </tr>\n",
       "    <tr>\n",
       "      <th>2</th>\n",
       "      <td>303</td>\n",
       "      <td>광화문역 1번출구 앞</td>\n",
       "      <td>종로구</td>\n",
       "      <td>서울특별시 종로구 세종대로 지하189 세종로공원</td>\n",
       "      <td>37.571770</td>\n",
       "      <td>126.974663</td>\n",
       "      <td>2015-10-07 00:00:00</td>\n",
       "      <td>8.0</td>\n",
       "      <td>8.0</td>\n",
       "      <td>QR</td>\n",
       "    </tr>\n",
       "    <tr>\n",
       "      <th>3</th>\n",
       "      <td>305</td>\n",
       "      <td>종로구청 옆</td>\n",
       "      <td>종로구</td>\n",
       "      <td>서울특별시 종로구 세종로 84-1</td>\n",
       "      <td>37.572559</td>\n",
       "      <td>126.978333</td>\n",
       "      <td>2015-01-07 00:00:00</td>\n",
       "      <td>16.0</td>\n",
       "      <td>16.0</td>\n",
       "      <td>QR</td>\n",
       "    </tr>\n",
       "    <tr>\n",
       "      <th>4</th>\n",
       "      <td>307</td>\n",
       "      <td>서울역사박물관 앞</td>\n",
       "      <td>종로구</td>\n",
       "      <td>서울특별시 종로구 새문안로 55 서울역사박물관 앞</td>\n",
       "      <td>37.570000</td>\n",
       "      <td>126.971100</td>\n",
       "      <td>2015-10-07 12:09:09</td>\n",
       "      <td>11.0</td>\n",
       "      <td>11.0</td>\n",
       "      <td>QR</td>\n",
       "    </tr>\n",
       "  </tbody>\n",
       "</table>\n",
       "</div>"
      ],
      "text/plain": [
       "   대여소번호          대여소명  자치구                             상세주소         위도  \\\n",
       "0    301   경복궁역 7번출구 앞  종로구  서울특별시 종로구 사직로 지하130 경복궁역 7번출구 앞  37.575794   \n",
       "1    302   경복궁역 4번출구 뒤  종로구  서울특별시 종로구 사직로 지하130 경복궁역 4번출구 뒤  37.575947   \n",
       "2    303   광화문역 1번출구 앞  종로구       서울특별시 종로구 세종대로 지하189 세종로공원  37.571770   \n",
       "3    305        종로구청 옆  종로구               서울특별시 종로구 세종로 84-1  37.572559   \n",
       "4    307     서울역사박물관 앞  종로구      서울특별시 종로구 새문안로 55 서울역사박물관 앞  37.570000   \n",
       "\n",
       "           경도                설치시기  거치대수lcd  거치대수qr 운영방식  \n",
       "0  126.971451 2015-10-07 12:03:46     20.0    20.0   QR  \n",
       "1  126.974060 2015-10-07 12:04:22     12.0    12.0   QR  \n",
       "2  126.974663 2015-10-07 00:00:00      8.0     8.0   QR  \n",
       "3  126.978333 2015-01-07 00:00:00     16.0    16.0   QR  \n",
       "4  126.971100 2015-10-07 12:09:09     11.0    11.0   QR  "
      ]
     },
     "execution_count": 22,
     "metadata": {},
     "output_type": "execute_result"
    }
   ],
   "source": [
    "bike_df1.head()"
   ]
  },
  {
   "cell_type": "markdown",
   "metadata": {},
   "source": [
    "#### 데이터 탐색\n",
    "    - info()\n",
    "    - describe()\n",
    "    - shape"
   ]
  },
  {
   "cell_type": "code",
   "execution_count": 15,
   "metadata": {},
   "outputs": [
    {
     "name": "stdout",
     "output_type": "stream",
     "text": [
      "<class 'pandas.core.frame.DataFrame'>\n",
      "RangeIndex: 2766 entries, 0 to 2765\n",
      "Data columns (total 10 columns):\n",
      " #   Column    Non-Null Count  Dtype         \n",
      "---  ------    --------------  -----         \n",
      " 0   대여소 번호    2766 non-null   int64         \n",
      " 1   대여소 명     2766 non-null   object        \n",
      " 2   자치구       2766 non-null   object        \n",
      " 3   상세주소      2766 non-null   object        \n",
      " 4   위도        2766 non-null   float64       \n",
      " 5   경도        2766 non-null   float64       \n",
      " 6   설치시기      2766 non-null   datetime64[ns]\n",
      " 7   거치대수 lcd  1419 non-null   float64       \n",
      " 8   거치대수 qr   1688 non-null   float64       \n",
      " 9   운영방식      2766 non-null   object        \n",
      "dtypes: datetime64[ns](1), float64(4), int64(1), object(4)\n",
      "memory usage: 216.2+ KB\n"
     ]
    }
   ],
   "source": [
    "bike_df1.info()"
   ]
  },
  {
   "cell_type": "code",
   "execution_count": 17,
   "metadata": {},
   "outputs": [
    {
     "data": {
      "text/plain": [
       "(2766, 10)"
      ]
     },
     "execution_count": 17,
     "metadata": {},
     "output_type": "execute_result"
    }
   ],
   "source": [
    "bike_df1.shape"
   ]
  },
  {
   "cell_type": "code",
   "execution_count": 20,
   "metadata": {},
   "outputs": [
    {
     "name": "stdout",
     "output_type": "stream",
     "text": [
      "<class 'pandas.core.frame.DataFrame'>\n",
      "RangeIndex: 2126133 entries, 0 to 2126132\n",
      "Data columns (total 12 columns):\n",
      " #   Column   Dtype  \n",
      "---  ------   -----  \n",
      " 0   대여일자     object \n",
      " 1   대여시간     int64  \n",
      " 2   대여소번호    int64  \n",
      " 3   대여소명     object \n",
      " 4   대여구분코드   object \n",
      " 5   성별       object \n",
      " 6   연령대코드    object \n",
      " 7   이용건수     int64  \n",
      " 8   운동량      object \n",
      " 9   탄소량      object \n",
      " 10  이동거리(M)  float64\n",
      " 11  이용시간(분)  int64  \n",
      "dtypes: float64(1), int64(4), object(7)\n",
      "memory usage: 194.7+ MB\n"
     ]
    }
   ],
   "source": [
    "bike_df2.shape\n",
    "bike_df2.info()"
   ]
  },
  {
   "cell_type": "code",
   "execution_count": 19,
   "metadata": {},
   "outputs": [
    {
     "data": {
      "text/plain": [
       "(13670, 5)"
      ]
     },
     "execution_count": 19,
     "metadata": {},
     "output_type": "execute_result"
    }
   ],
   "source": [
    "bike_df3.shape"
   ]
  },
  {
   "cell_type": "markdown",
   "metadata": {},
   "source": [
    "#### 데이터 전처리\n",
    "- 컬럼명 변경\n",
    "- 필요없는 컬럼 제거\n",
    "- 데이터 타입 변경"
   ]
  },
  {
   "cell_type": "code",
   "execution_count": 24,
   "metadata": {},
   "outputs": [],
   "source": [
    "# 컬럼제거 : 상세주소, 위도, 경도\n",
    "bike_df1.drop(columns=[\"상세주소\", \"위도\", \"경도\"], inplace=True)"
   ]
  },
  {
   "cell_type": "code",
   "execution_count": 26,
   "metadata": {},
   "outputs": [
    {
     "data": {
      "text/plain": [
       "대여소번호         0\n",
       "대여소명          0\n",
       "자치구           0\n",
       "설치시기          0\n",
       "거치대수lcd    1347\n",
       "거치대수qr     1078\n",
       "운영방식          0\n",
       "dtype: int64"
      ]
     },
     "execution_count": 26,
     "metadata": {},
     "output_type": "execute_result"
    }
   ],
   "source": [
    "# bike_df1 NaN 처리\n",
    "# 동일한 값으로 채우기 : fillna()\n",
    "\n",
    "# isna() or isnull()\n",
    "\n",
    "# 컬럼별 NaN 개수 확인\n",
    "bike_df1.isna().sum()"
   ]
  },
  {
   "cell_type": "code",
   "execution_count": null,
   "metadata": {},
   "outputs": [],
   "source": [
    "# bike_df1[\"거치대수lcd\"] = bike_df1[\"거치대수lcd\"].fillna(0)\n",
    "\n",
    "bike_df1[\"거치대수lcd\"].fillna(0, inplace=True)\n",
    "bike_df1[\"거치대수qr\"].fillna(0, inplace=True)"
   ]
  },
  {
   "cell_type": "code",
   "execution_count": 30,
   "metadata": {},
   "outputs": [
    {
     "data": {
      "text/plain": [
       "대여소번호      0\n",
       "대여소명       0\n",
       "자치구        0\n",
       "설치시기       0\n",
       "거치대수lcd    0\n",
       "거치대수qr     0\n",
       "운영방식       0\n",
       "dtype: int64"
      ]
     },
     "execution_count": 30,
     "metadata": {},
     "output_type": "execute_result"
    }
   ],
   "source": [
    "bike_df1.isna().sum()"
   ]
  },
  {
   "cell_type": "code",
   "execution_count": 31,
   "metadata": {},
   "outputs": [
    {
     "data": {
      "text/plain": [
       "dtype('int64')"
      ]
     },
     "execution_count": 31,
     "metadata": {},
     "output_type": "execute_result"
    }
   ],
   "source": [
    "bike_df1[\"대여소번호\"].dtype"
   ]
  },
  {
   "cell_type": "code",
   "execution_count": 32,
   "metadata": {},
   "outputs": [
    {
     "data": {
      "text/plain": [
       "대여소번호               int64\n",
       "대여소명               object\n",
       "자치구                object\n",
       "설치시기       datetime64[ns]\n",
       "거치대수lcd           float64\n",
       "거치대수qr            float64\n",
       "운영방식               object\n",
       "dtype: object"
      ]
     },
     "execution_count": 32,
     "metadata": {},
     "output_type": "execute_result"
    }
   ],
   "source": [
    "# df 전체 데이터 타입 조회\n",
    "bike_df1.dtypes"
   ]
  },
  {
   "cell_type": "code",
   "execution_count": 33,
   "metadata": {},
   "outputs": [
    {
     "data": {
      "text/plain": [
       "0        301\n",
       "1        302\n",
       "2        303\n",
       "3        305\n",
       "4        307\n",
       "        ... \n",
       "2761    4954\n",
       "2762    4956\n",
       "2763    4957\n",
       "2764    4958\n",
       "2765    4959\n",
       "Name: 대여소번호, Length: 2766, dtype: object"
      ]
     },
     "execution_count": 33,
     "metadata": {},
     "output_type": "execute_result"
    }
   ],
   "source": [
    "# 타입변환 - astype(), pd.to_numeric()\n",
    "\n",
    "bike_df1[\"대여소번호\"].astype(object)"
   ]
  },
  {
   "cell_type": "code",
   "execution_count": 34,
   "metadata": {},
   "outputs": [
    {
     "data": {
      "text/plain": [
       "dtype('int64')"
      ]
     },
     "execution_count": 34,
     "metadata": {},
     "output_type": "execute_result"
    }
   ],
   "source": [
    "bike_df1[\"대여소번호\"].dtype"
   ]
  },
  {
   "cell_type": "code",
   "execution_count": 38,
   "metadata": {},
   "outputs": [],
   "source": [
    "# 대여소명 : 숫자와 문자 분리 (1442. 중랑구청 중화동 별관 앞)\n",
    "\n",
    "# bike_df2[\"대여소명\"].dtype\n",
    "\n",
    "bike_df2[\"대여소번호\"]=bike_df2[\"대여소명\"].str.split(\".\",expand=True)[0]\n",
    "bike_df2[\"대여소명_new\"]=bike_df2[\"대여소명\"].str.split(\".\",expand=True)[1]"
   ]
  },
  {
   "cell_type": "code",
   "execution_count": 42,
   "metadata": {},
   "outputs": [
    {
     "data": {
      "text/html": [
       "<div>\n",
       "<style scoped>\n",
       "    .dataframe tbody tr th:only-of-type {\n",
       "        vertical-align: middle;\n",
       "    }\n",
       "\n",
       "    .dataframe tbody tr th {\n",
       "        vertical-align: top;\n",
       "    }\n",
       "\n",
       "    .dataframe thead th {\n",
       "        text-align: right;\n",
       "    }\n",
       "</style>\n",
       "<table border=\"1\" class=\"dataframe\">\n",
       "  <thead>\n",
       "    <tr style=\"text-align: right;\">\n",
       "      <th></th>\n",
       "      <th>자치구</th>\n",
       "      <th>대여소명</th>\n",
       "      <th>기준년월</th>\n",
       "      <th>대여건수</th>\n",
       "      <th>반납건수</th>\n",
       "    </tr>\n",
       "  </thead>\n",
       "  <tbody>\n",
       "    <tr>\n",
       "      <th>0</th>\n",
       "      <td>마포구</td>\n",
       "      <td>108. 서교동 사거리</td>\n",
       "      <td>202407</td>\n",
       "      <td>1597</td>\n",
       "      <td>1609</td>\n",
       "    </tr>\n",
       "    <tr>\n",
       "      <th>1</th>\n",
       "      <td>양천구</td>\n",
       "      <td>729. 서부식자재마트 건너편</td>\n",
       "      <td>202407</td>\n",
       "      <td>1932</td>\n",
       "      <td>2113</td>\n",
       "    </tr>\n",
       "    <tr>\n",
       "      <th>2</th>\n",
       "      <td>양천구</td>\n",
       "      <td>731. 서울시 도로환경관리센터</td>\n",
       "      <td>202407</td>\n",
       "      <td>3580</td>\n",
       "      <td>3698</td>\n",
       "    </tr>\n",
       "    <tr>\n",
       "      <th>3</th>\n",
       "      <td>양천구</td>\n",
       "      <td>732. 신월중학교</td>\n",
       "      <td>202407</td>\n",
       "      <td>865</td>\n",
       "      <td>865</td>\n",
       "    </tr>\n",
       "    <tr>\n",
       "      <th>4</th>\n",
       "      <td>양천구</td>\n",
       "      <td>733. 신정이펜하우스314동</td>\n",
       "      <td>202407</td>\n",
       "      <td>587</td>\n",
       "      <td>401</td>\n",
       "    </tr>\n",
       "  </tbody>\n",
       "</table>\n",
       "</div>"
      ],
      "text/plain": [
       "   자치구               대여소명    기준년월  대여건수  반납건수\n",
       "0  마포구       108. 서교동 사거리  202407  1597  1609\n",
       "1  양천구   729. 서부식자재마트 건너편  202407  1932  2113\n",
       "2  양천구  731. 서울시 도로환경관리센터  202407  3580  3698\n",
       "3  양천구         732. 신월중학교  202407   865   865\n",
       "4  양천구   733. 신정이펜하우스314동  202407   587   401"
      ]
     },
     "execution_count": 42,
     "metadata": {},
     "output_type": "execute_result"
    }
   ],
   "source": [
    "bike_df3.head()"
   ]
  },
  {
   "cell_type": "code",
   "execution_count": 43,
   "metadata": {},
   "outputs": [],
   "source": [
    "# 대여소명 분리\n",
    "bike_df3[\"대여소번호\"]=bike_df3[\"대여소명\"].str.split(\".\",expand=True)[0]\n",
    "bike_df3[\"대여소명_new\"]=bike_df3[\"대여소명\"].str.split(\".\",expand=True)[1]"
   ]
  },
  {
   "cell_type": "code",
   "execution_count": 47,
   "metadata": {},
   "outputs": [
    {
     "data": {
      "text/html": [
       "<div>\n",
       "<style scoped>\n",
       "    .dataframe tbody tr th:only-of-type {\n",
       "        vertical-align: middle;\n",
       "    }\n",
       "\n",
       "    .dataframe tbody tr th {\n",
       "        vertical-align: top;\n",
       "    }\n",
       "\n",
       "    .dataframe thead th {\n",
       "        text-align: right;\n",
       "    }\n",
       "</style>\n",
       "<table border=\"1\" class=\"dataframe\">\n",
       "  <thead>\n",
       "    <tr style=\"text-align: right;\">\n",
       "      <th></th>\n",
       "      <th>자치구</th>\n",
       "      <th>대여소명</th>\n",
       "      <th>기준년월</th>\n",
       "      <th>대여건수</th>\n",
       "      <th>반납건수</th>\n",
       "      <th>대여소번호</th>\n",
       "      <th>대여소명_new</th>\n",
       "    </tr>\n",
       "  </thead>\n",
       "  <tbody>\n",
       "    <tr>\n",
       "      <th>6675</th>\n",
       "      <td>성동구</td>\n",
       "      <td>AS센터</td>\n",
       "      <td>202409</td>\n",
       "      <td>3</td>\n",
       "      <td>2</td>\n",
       "      <td>AS센터</td>\n",
       "      <td>None</td>\n",
       "    </tr>\n",
       "    <tr>\n",
       "      <th>9409</th>\n",
       "      <td>성동구</td>\n",
       "      <td>AS센터</td>\n",
       "      <td>202410</td>\n",
       "      <td>3</td>\n",
       "      <td>2</td>\n",
       "      <td>AS센터</td>\n",
       "      <td>None</td>\n",
       "    </tr>\n",
       "  </tbody>\n",
       "</table>\n",
       "</div>"
      ],
      "text/plain": [
       "      자치구  대여소명    기준년월  대여건수  반납건수 대여소번호 대여소명_new\n",
       "6675  성동구  AS센터  202409     3     2  AS센터     None\n",
       "9409  성동구  AS센터  202410     3     2  AS센터     None"
      ]
     },
     "execution_count": 47,
     "metadata": {},
     "output_type": "execute_result"
    }
   ],
   "source": [
    "bike_df3[bike_df3[\"대여소명_new\"].isna()]"
   ]
  },
  {
   "cell_type": "code",
   "execution_count": 48,
   "metadata": {},
   "outputs": [],
   "source": [
    "# bike_df3 None 행 제거\n",
    "\n",
    "bike_df3.dropna(subset=\"대여소명_new\",inplace=True)"
   ]
  },
  {
   "cell_type": "code",
   "execution_count": 49,
   "metadata": {},
   "outputs": [
    {
     "data": {
      "text/html": [
       "<div>\n",
       "<style scoped>\n",
       "    .dataframe tbody tr th:only-of-type {\n",
       "        vertical-align: middle;\n",
       "    }\n",
       "\n",
       "    .dataframe tbody tr th {\n",
       "        vertical-align: top;\n",
       "    }\n",
       "\n",
       "    .dataframe thead th {\n",
       "        text-align: right;\n",
       "    }\n",
       "</style>\n",
       "<table border=\"1\" class=\"dataframe\">\n",
       "  <thead>\n",
       "    <tr style=\"text-align: right;\">\n",
       "      <th></th>\n",
       "      <th>자치구</th>\n",
       "      <th>대여소명</th>\n",
       "      <th>기준년월</th>\n",
       "      <th>대여건수</th>\n",
       "      <th>반납건수</th>\n",
       "      <th>대여소번호</th>\n",
       "      <th>대여소명_new</th>\n",
       "    </tr>\n",
       "  </thead>\n",
       "  <tbody>\n",
       "  </tbody>\n",
       "</table>\n",
       "</div>"
      ],
      "text/plain": [
       "Empty DataFrame\n",
       "Columns: [자치구, 대여소명, 기준년월, 대여건수, 반납건수, 대여소번호, 대여소명_new]\n",
       "Index: []"
      ]
     },
     "execution_count": 49,
     "metadata": {},
     "output_type": "execute_result"
    }
   ],
   "source": [
    "bike_df3[bike_df3[\"대여소명_new\"].isna()]"
   ]
  },
  {
   "cell_type": "code",
   "execution_count": 51,
   "metadata": {},
   "outputs": [
    {
     "data": {
      "text/plain": [
       "성별\n",
       "M    1050807\n",
       "F     523055\n",
       "m        232\n",
       "f        174\n",
       "Name: count, dtype: int64"
      ]
     },
     "execution_count": 51,
     "metadata": {},
     "output_type": "execute_result"
    }
   ],
   "source": [
    "# 성별의 구성값 : NaN, 'F', 'M', 'f', 'm'\n",
    "\n",
    "bike_df2[\"성별\"].unique()\n",
    "bike_df2[\"성별\"].value_counts()\n"
   ]
  },
  {
   "cell_type": "code",
   "execution_count": 52,
   "metadata": {},
   "outputs": [],
   "source": [
    "# m => M , f => F\n",
    "\n",
    "bike_df2.loc[(bike_df2[\"성별\"] == 'm'), \"성별\"] = \"M\"\n",
    "bike_df2.loc[(bike_df2[\"성별\"] == 'f'), \"성별\"] = \"F\""
   ]
  },
  {
   "cell_type": "code",
   "execution_count": 54,
   "metadata": {},
   "outputs": [
    {
     "data": {
      "text/plain": [
       "array([nan, 'F', 'M'], dtype=object)"
      ]
     },
     "execution_count": 54,
     "metadata": {},
     "output_type": "execute_result"
    }
   ],
   "source": [
    "bike_df2[\"성별\"].unique()"
   ]
  },
  {
   "cell_type": "code",
   "execution_count": 55,
   "metadata": {},
   "outputs": [
    {
     "data": {
      "text/plain": [
       "np.int64(551865)"
      ]
     },
     "execution_count": 55,
     "metadata": {},
     "output_type": "execute_result"
    }
   ],
   "source": [
    "# nan 개수 세기\n",
    "bike_df2[\"성별\"].isna().sum()"
   ]
  },
  {
   "cell_type": "code",
   "execution_count": 58,
   "metadata": {},
   "outputs": [
    {
     "data": {
      "text/plain": [
       "0          0.66\n",
       "1          0.25\n",
       "2          0.87\n",
       "3          0.19\n",
       "4          0.94\n",
       "           ... \n",
       "2126128    1.05\n",
       "2126129    0.00\n",
       "2126130    0.16\n",
       "2126131    0.36\n",
       "2126132    0.15\n",
       "Name: 탄소량, Length: 2126133, dtype: object"
      ]
     },
     "execution_count": 58,
     "metadata": {},
     "output_type": "execute_result"
    }
   ],
   "source": [
    "bike_df2[\"탄소량\"]"
   ]
  },
  {
   "cell_type": "code",
   "execution_count": 59,
   "metadata": {},
   "outputs": [],
   "source": [
    "# 운동량, 탄소량 데이터 타입 변환 float64\n",
    "\n",
    "# ValueError: could not convert string to float: '\\\\N'\n",
    "# bike_df2[\"탄소량\"].astype(\"float64\")"
   ]
  },
  {
   "cell_type": "code",
   "execution_count": 60,
   "metadata": {},
   "outputs": [],
   "source": [
    "# \\N => -1 변경\n",
    "\n",
    "bike_df2.loc[(bike_df2[\"탄소량\"] == r'\\N'), \"탄소량\"] = -1\n",
    "bike_df2.loc[(bike_df2[\"운동량\"] == r'\\N'), \"운동량\"] = -1"
   ]
  },
  {
   "cell_type": "code",
   "execution_count": 63,
   "metadata": {},
   "outputs": [],
   "source": [
    "bike_df2[\"탄소량\"]=bike_df2[\"탄소량\"].astype(\"float64\")\n",
    "bike_df2[\"운동량\"]=bike_df2[\"운동량\"].astype(\"float64\")"
   ]
  },
  {
   "cell_type": "code",
   "execution_count": 64,
   "metadata": {},
   "outputs": [
    {
     "data": {
      "text/plain": [
       "대여일자         object\n",
       "대여시간          int64\n",
       "대여소번호        object\n",
       "대여소명         object\n",
       "대여구분코드       object\n",
       "성별           object\n",
       "연령대코드        object\n",
       "이용건수          int64\n",
       "운동량         float64\n",
       "탄소량         float64\n",
       "이동거리(M)     float64\n",
       "이용시간(분)       int64\n",
       "대여소명_new     object\n",
       "dtype: object"
      ]
     },
     "execution_count": 64,
     "metadata": {},
     "output_type": "execute_result"
    }
   ],
   "source": [
    "bike_df2.dtypes"
   ]
  },
  {
   "cell_type": "code",
   "execution_count": 67,
   "metadata": {},
   "outputs": [],
   "source": [
    "# 대여일자(object) => datetime\n",
    "\n",
    "bike_df2[\"대여일자\"]=pd.to_datetime(bike_df2[\"대여일자\"])"
   ]
  },
  {
   "cell_type": "code",
   "execution_count": 68,
   "metadata": {},
   "outputs": [
    {
     "name": "stdout",
     "output_type": "stream",
     "text": [
      "datetime64[ns]\n"
     ]
    }
   ],
   "source": [
    "print(bike_df2[\"대여일자\"].dtype)"
   ]
  },
  {
   "cell_type": "markdown",
   "metadata": {},
   "source": [
    "#### 데이터 분석\n",
    "- 이동거리 / 평균 사용시간이 높은 대여소는?\n",
    "- 운동량과 이동거리의 상관관계는?\n",
    "- 따릉이를 가장 많이 사용하는 성별은?\n",
    "- 서울시 구별 설치 거치대 개수는?\n",
    "- 서울시 구별 거치대 개수와 대여건수?"
   ]
  },
  {
   "cell_type": "code",
   "execution_count": null,
   "metadata": {},
   "outputs": [],
   "source": []
  }
 ],
 "metadata": {
  "kernelspec": {
   "display_name": "venv",
   "language": "python",
   "name": "python3"
  },
  "language_info": {
   "codemirror_mode": {
    "name": "ipython",
    "version": 3
   },
   "file_extension": ".py",
   "mimetype": "text/x-python",
   "name": "python",
   "nbconvert_exporter": "python",
   "pygments_lexer": "ipython3",
   "version": "3.13.1"
  }
 },
 "nbformat": 4,
 "nbformat_minor": 2
}
